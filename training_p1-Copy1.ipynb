{
 "cells": [
  {
   "cell_type": "code",
   "execution_count": 1,
   "id": "3813bb70",
   "metadata": {
    "execution": {
     "iopub.execute_input": "2023-08-12T11:45:23.175739Z",
     "iopub.status.busy": "2023-08-12T11:45:23.175295Z",
     "iopub.status.idle": "2023-08-12T11:45:34.999877Z",
     "shell.execute_reply": "2023-08-12T11:45:34.998534Z"
    },
    "papermill": {
     "duration": 11.83211,
     "end_time": "2023-08-12T11:45:35.002856",
     "exception": false,
     "start_time": "2023-08-12T11:45:23.170746",
     "status": "completed"
    },
    "tags": []
   },
   "outputs": [
    {
     "name": "stdout",
     "output_type": "stream",
     "text": [
      "/kaggle/working\n"
     ]
    },
    {
     "name": "stdout",
     "output_type": "stream",
     "text": [
      "Cloning into 'erav1s13'...\r\n"
     ]
    },
    {
     "name": "stdout",
     "output_type": "stream",
     "text": [
      "remote: Enumerating objects: 223, done.\u001b[K\r\n",
      "remote: Counting objects:   4% (1/23)\u001b[K\r",
      "remote: Counting objects:   8% (2/23)\u001b[K\r",
      "remote: Counting objects:  13% (3/23)\u001b[K\r",
      "remote: Counting objects:  17% (4/23)\u001b[K\r",
      "remote: Counting objects:  21% (5/23)\u001b[K\r",
      "remote: Counting objects:  26% (6/23)\u001b[K\r",
      "remote: Counting objects:  30% (7/23)\u001b[K\r",
      "remote: Counting objects:  34% (8/23)\u001b[K\r",
      "remote: Counting objects:  39% (9/23)\u001b[K\r",
      "remote: Counting objects:  43% (10/23)\u001b[K\r",
      "remote: Counting objects:  47% (11/23)\u001b[K\r",
      "remote: Counting objects:  52% (12/23)\u001b[K\r",
      "remote: Counting objects:  56% (13/23)\u001b[K\r",
      "remote: Counting objects:  60% (14/23)\u001b[K\r",
      "remote: Counting objects:  65% (15/23)\u001b[K\r",
      "remote: Counting objects:  69% (16/23)\u001b[K\r",
      "remote: Counting objects:  73% (17/23)\u001b[K\r",
      "remote: Counting objects:  78% (18/23)\u001b[K\r",
      "remote: Counting objects:  82% (19/23)\u001b[K\r",
      "remote: Counting objects:  86% (20/23)\u001b[K\r",
      "remote: Counting objects:  91% (21/23)\u001b[K\r",
      "remote: Counting objects:  95% (22/23)\u001b[K\r",
      "remote: Counting objects: 100% (23/23)\u001b[K\r",
      "remote: Counting objects: 100% (23/23), done.\u001b[K\r\n",
      "remote: Compressing objects:   5% (1/17)\u001b[K\r",
      "remote: Compressing objects:  11% (2/17)\u001b[K\r",
      "remote: Compressing objects:  17% (3/17)\u001b[K\r",
      "remote: Compressing objects:  23% (4/17)\u001b[K\r",
      "remote: Compressing objects:  29% (5/17)\u001b[K\r",
      "remote: Compressing objects:  35% (6/17)\u001b[K\r",
      "remote: Compressing objects:  41% (7/17)\u001b[K\r",
      "remote: Compressing objects:  47% (8/17)\u001b[K\r",
      "remote: Compressing objects:  52% (9/17)\u001b[K\r",
      "remote: Compressing objects:  58% (10/17)\u001b[K\r",
      "remote: Compressing objects:  64% (11/17)\u001b[K\r",
      "remote: Compressing objects:  70% (12/17)\u001b[K\r",
      "remote: Compressing objects:  76% (13/17)\u001b[K\r",
      "remote: Compressing objects:  82% (14/17)\u001b[K\r",
      "remote: Compressing objects:  88% (15/17)\u001b[K\r",
      "remote: Compressing objects:  94% (16/17)\u001b[K\r",
      "remote: Compressing objects: 100% (17/17)\u001b[K\r",
      "remote: Compressing objects: 100% (17/17), done.\u001b[K\r\n"
     ]
    },
    {
     "name": "stdout",
     "output_type": "stream",
     "text": [
      "Receiving objects:   0% (1/223)\r",
      "Receiving objects:   1% (3/223)\r",
      "Receiving objects:   2% (5/223)\r",
      "Receiving objects:   3% (7/223)\r",
      "Receiving objects:   4% (9/223)\r",
      "Receiving objects:   5% (12/223)\r",
      "Receiving objects:   6% (14/223)\r",
      "Receiving objects:   7% (16/223)\r",
      "Receiving objects:   8% (18/223)\r",
      "Receiving objects:   9% (21/223)\r",
      "Receiving objects:  10% (23/223)\r",
      "Receiving objects:  11% (25/223)\r",
      "Receiving objects:  12% (27/223)\r",
      "Receiving objects:  13% (29/223)\r",
      "Receiving objects:  14% (32/223)\r",
      "Receiving objects:  15% (34/223)\r",
      "Receiving objects:  16% (36/223)\r",
      "Receiving objects:  17% (38/223)\r",
      "Receiving objects:  18% (41/223)\r",
      "Receiving objects:  19% (43/223)\r",
      "Receiving objects:  20% (45/223)\r",
      "Receiving objects:  21% (47/223)\r",
      "Receiving objects:  22% (50/223)\r",
      "Receiving objects:  23% (52/223)\r",
      "Receiving objects:  24% (54/223)\r",
      "Receiving objects:  25% (56/223)\r",
      "Receiving objects:  26% (58/223)\r",
      "Receiving objects:  27% (61/223)\r",
      "Receiving objects:  28% (63/223)\r",
      "Receiving objects:  29% (65/223)\r",
      "Receiving objects:  30% (67/223)\r",
      "Receiving objects:  31% (70/223)\r",
      "Receiving objects:  32% (72/223)\r",
      "Receiving objects:  33% (74/223)\r",
      "Receiving objects:  34% (76/223)\r",
      "Receiving objects:  35% (79/223)\r",
      "Receiving objects:  36% (81/223)\r",
      "Receiving objects:  37% (83/223)\r",
      "Receiving objects:  38% (85/223)\r",
      "Receiving objects:  39% (87/223)\r",
      "Receiving objects:  40% (90/223)\r",
      "Receiving objects:  41% (92/223)\r",
      "Receiving objects:  42% (94/223)\r",
      "Receiving objects:  43% (96/223)\r",
      "Receiving objects:  44% (99/223)\r",
      "Receiving objects:  45% (101/223)\r",
      "Receiving objects:  46% (103/223)\r",
      "Receiving objects:  47% (105/223)\r",
      "Receiving objects:  48% (108/223)\r",
      "Receiving objects:  49% (110/223)\r",
      "Receiving objects:  50% (112/223)\r",
      "Receiving objects:  51% (114/223)\r",
      "Receiving objects:  52% (116/223)\r",
      "Receiving objects:  53% (119/223)\r",
      "Receiving objects:  54% (121/223)\r",
      "Receiving objects:  55% (123/223)\r",
      "Receiving objects:  56% (125/223)\r",
      "Receiving objects:  57% (128/223)\r",
      "Receiving objects:  58% (130/223)\r",
      "Receiving objects:  59% (132/223)\r",
      "Receiving objects:  60% (134/223)\r",
      "Receiving objects:  61% (137/223)\r",
      "Receiving objects:  62% (139/223)\r",
      "Receiving objects:  63% (141/223)\r",
      "Receiving objects:  64% (143/223)\r",
      "Receiving objects:  65% (145/223)\r",
      "Receiving objects:  66% (148/223)\r",
      "Receiving objects:  67% (150/223)\r",
      "Receiving objects:  68% (152/223)\r",
      "Receiving objects:  69% (154/223)\r",
      "Receiving objects:  70% (157/223)\r",
      "Receiving objects:  71% (159/223)\r",
      "Receiving objects:  72% (161/223)\r",
      "Receiving objects:  73% (163/223)\r",
      "Receiving objects:  74% (166/223)\r",
      "Receiving objects:  75% (168/223)\r",
      "Receiving objects:  76% (170/223)\r",
      "Receiving objects:  77% (172/223)\r",
      "Receiving objects:  78% (174/223)\r",
      "Receiving objects:  79% (177/223)\r",
      "Receiving objects:  80% (179/223)\r",
      "Receiving objects:  81% (181/223)\r",
      "Receiving objects:  82% (183/223)\r",
      "Receiving objects:  83% (186/223)\r",
      "Receiving objects:  84% (188/223)\r",
      "Receiving objects:  85% (190/223)\r",
      "Receiving objects:  86% (192/223)\r"
     ]
    },
    {
     "name": "stdout",
     "output_type": "stream",
     "text": [
      "Receiving objects:  86% (193/223), 24.30 MiB | 24.29 MiB/s\r"
     ]
    },
    {
     "name": "stdout",
     "output_type": "stream",
     "text": [
      "Receiving objects:  86% (193/223), 44.78 MiB | 22.39 MiB/s\r"
     ]
    },
    {
     "name": "stdout",
     "output_type": "stream",
     "text": [
      "Receiving objects:  87% (195/223), 57.35 MiB | 22.94 MiB/s\r"
     ]
    },
    {
     "name": "stdout",
     "output_type": "stream",
     "text": [
      "Receiving objects:  88% (197/223), 57.35 MiB | 22.94 MiB/s\r"
     ]
    },
    {
     "name": "stdout",
     "output_type": "stream",
     "text": [
      "Receiving objects:  88% (197/223), 71.82 MiB | 23.94 MiB/s\r"
     ]
    },
    {
     "name": "stdout",
     "output_type": "stream",
     "text": [
      "Receiving objects:  88% (197/223), 97.84 MiB | 24.46 MiB/s\r"
     ]
    },
    {
     "name": "stdout",
     "output_type": "stream",
     "text": [
      "remote: Total 223 (delta 11), reused 15 (delta 6), pack-reused 200\u001b[K\r\n"
     ]
    },
    {
     "name": "stdout",
     "output_type": "stream",
     "text": [
      "Receiving objects:  89% (199/223), 113.32 MiB | 25.18 MiB/s\r",
      "Receiving objects:  90% (201/223), 113.32 MiB | 25.18 MiB/s\r",
      "Receiving objects:  91% (203/223), 113.32 MiB | 25.18 MiB/s\r",
      "Receiving objects:  92% (206/223), 113.32 MiB | 25.18 MiB/s\r",
      "Receiving objects:  93% (208/223), 113.32 MiB | 25.18 MiB/s\r",
      "Receiving objects:  94% (210/223), 113.32 MiB | 25.18 MiB/s\r",
      "Receiving objects:  95% (212/223), 113.32 MiB | 25.18 MiB/s\r",
      "Receiving objects:  96% (215/223), 113.32 MiB | 25.18 MiB/s\r",
      "Receiving objects:  97% (217/223), 113.32 MiB | 25.18 MiB/s\r",
      "Receiving objects:  98% (219/223), 113.32 MiB | 25.18 MiB/s\r",
      "Receiving objects:  99% (221/223), 113.32 MiB | 25.18 MiB/s\r",
      "Receiving objects: 100% (223/223), 113.32 MiB | 25.18 MiB/s\r",
      "Receiving objects: 100% (223/223), 116.29 MiB | 25.24 MiB/s, done.\r\n",
      "Resolving deltas:   0% (0/140)\r",
      "Resolving deltas:   1% (2/140)\r",
      "Resolving deltas:   2% (3/140)\r",
      "Resolving deltas:   3% (5/140)\r",
      "Resolving deltas:   4% (6/140)\r",
      "Resolving deltas:   5% (7/140)\r",
      "Resolving deltas:   6% (9/140)\r",
      "Resolving deltas:   7% (10/140)\r",
      "Resolving deltas:   8% (12/140)\r",
      "Resolving deltas:   9% (13/140)\r",
      "Resolving deltas:  10% (14/140)\r",
      "Resolving deltas:  11% (16/140)\r",
      "Resolving deltas:  12% (17/140)\r",
      "Resolving deltas:  13% (19/140)\r",
      "Resolving deltas:  14% (20/140)\r",
      "Resolving deltas:  15% (21/140)\r",
      "Resolving deltas:  16% (23/140)\r",
      "Resolving deltas:  17% (24/140)\r",
      "Resolving deltas:  18% (26/140)\r",
      "Resolving deltas:  19% (27/140)\r",
      "Resolving deltas:  20% (28/140)\r",
      "Resolving deltas:  21% (30/140)\r",
      "Resolving deltas:  22% (31/140)\r",
      "Resolving deltas:  23% (33/140)\r",
      "Resolving deltas:  24% (34/140)\r",
      "Resolving deltas:  25% (35/140)\r",
      "Resolving deltas:  26% (37/140)\r",
      "Resolving deltas:  27% (38/140)\r",
      "Resolving deltas:  28% (40/140)\r",
      "Resolving deltas:  29% (41/140)\r",
      "Resolving deltas:  30% (42/140)\r",
      "Resolving deltas:  31% (44/140)\r",
      "Resolving deltas:  32% (45/140)\r",
      "Resolving deltas:  33% (47/140)\r",
      "Resolving deltas:  34% (48/140)\r",
      "Resolving deltas:  35% (49/140)\r",
      "Resolving deltas:  36% (51/140)\r",
      "Resolving deltas:  37% (52/140)\r",
      "Resolving deltas:  38% (54/140)\r",
      "Resolving deltas:  39% (55/140)\r",
      "Resolving deltas:  40% (56/140)\r",
      "Resolving deltas:  41% (58/140)\r",
      "Resolving deltas:  42% (59/140)\r",
      "Resolving deltas:  43% (61/140)\r",
      "Resolving deltas:  44% (62/140)\r",
      "Resolving deltas:  45% (63/140)\r",
      "Resolving deltas:  46% (65/140)\r",
      "Resolving deltas:  47% (66/140)\r",
      "Resolving deltas:  48% (68/140)\r",
      "Resolving deltas:  49% (69/140)\r",
      "Resolving deltas:  50% (70/140)\r",
      "Resolving deltas:  51% (72/140)\r",
      "Resolving deltas:  52% (73/140)\r",
      "Resolving deltas:  53% (75/140)\r",
      "Resolving deltas:  54% (76/140)\r",
      "Resolving deltas:  55% (77/140)\r",
      "Resolving deltas:  56% (79/140)\r",
      "Resolving deltas:  57% (80/140)\r",
      "Resolving deltas:  58% (82/140)\r",
      "Resolving deltas:  59% (83/140)\r",
      "Resolving deltas:  60% (84/140)\r",
      "Resolving deltas:  61% (86/140)\r",
      "Resolving deltas:  62% (87/140)\r",
      "Resolving deltas:  63% (89/140)\r",
      "Resolving deltas:  64% (90/140)\r",
      "Resolving deltas:  65% (91/140)\r",
      "Resolving deltas:  66% (93/140)\r",
      "Resolving deltas:  67% (94/140)\r",
      "Resolving deltas:  68% (96/140)\r",
      "Resolving deltas:  69% (97/140)\r",
      "Resolving deltas:  70% (98/140)\r",
      "Resolving deltas:  71% (100/140)\r",
      "Resolving deltas:  72% (101/140)\r",
      "Resolving deltas:  73% (103/140)\r",
      "Resolving deltas:  74% (104/140)\r",
      "Resolving deltas:  75% (105/140)\r",
      "Resolving deltas:  76% (107/140)\r",
      "Resolving deltas:  77% (108/140)\r",
      "Resolving deltas:  78% (110/140)\r",
      "Resolving deltas:  79% (111/140)\r",
      "Resolving deltas:  80% (112/140)\r",
      "Resolving deltas:  81% (114/140)\r",
      "Resolving deltas:  82% (115/140)\r",
      "Resolving deltas:  83% (117/140)\r",
      "Resolving deltas:  84% (118/140)\r",
      "Resolving deltas:  85% (119/140)\r",
      "Resolving deltas:  86% (121/140)\r",
      "Resolving deltas:  87% (122/140)\r",
      "Resolving deltas:  88% (124/140)\r",
      "Resolving deltas:  89% (125/140)\r",
      "Resolving deltas:  90% (126/140)\r",
      "Resolving deltas:  91% (128/140)\r",
      "Resolving deltas:  92% (129/140)\r",
      "Resolving deltas:  93% (131/140)\r",
      "Resolving deltas:  94% (132/140)\r",
      "Resolving deltas:  95% (133/140)\r",
      "Resolving deltas:  96% (135/140)\r",
      "Resolving deltas:  97% (136/140)\r",
      "Resolving deltas:  98% (138/140)\r",
      "Resolving deltas:  99% (139/140)\r",
      "Resolving deltas: 100% (140/140)\r",
      "Resolving deltas: 100% (140/140), done.\r\n"
     ]
    },
    {
     "name": "stdout",
     "output_type": "stream",
     "text": [
      "/kaggle/working/erav1s13\n"
     ]
    },
    {
     "name": "stdout",
     "output_type": "stream",
     "text": [
      "Already on 'main'\r\n",
      "Your branch is up to date with 'origin/main'.\r\n"
     ]
    },
    {
     "name": "stdout",
     "output_type": "stream",
     "text": [
      "Already up to date.\r\n"
     ]
    },
    {
     "name": "stdout",
     "output_type": "stream",
     "text": [
      "PASCAL_VOC   config.py\t metrics.ipynb\t   utils.py\r\n",
      "README.md    dataset.py  model.py\t   yolov3.py\r\n",
      "checkpoints  loss.py\t requirements.txt  yolov3_train.ipynb\r\n"
     ]
    }
   ],
   "source": [
    "%cd /kaggle/working\n",
    "!git clone https://github.com/swapniel99/erav1s13.git\n",
    "%cd erav1s13\n",
    "!mkdir -p checkpoints\n",
    "!git checkout main\n",
    "!git pull\n",
    "!ln -s /kaggle/input/pascal-voc-dataset-used-in-yolov3-video/PASCAL_VOC PASCAL_VOC\n",
    "# !pip install -qr requirements.txt\n",
    "# !rm -rf lightning_logs\n",
    "!ls"
   ]
  },
  {
   "cell_type": "code",
   "execution_count": 2,
   "id": "041a7dcf",
   "metadata": {
    "execution": {
     "iopub.execute_input": "2023-08-12T11:45:35.013635Z",
     "iopub.status.busy": "2023-08-12T11:45:35.012761Z",
     "iopub.status.idle": "2023-08-12T11:45:55.982669Z",
     "shell.execute_reply": "2023-08-12T11:45:55.981442Z"
    },
    "papermill": {
     "duration": 20.977851,
     "end_time": "2023-08-12T11:45:55.985168",
     "exception": false,
     "start_time": "2023-08-12T11:45:35.007317",
     "status": "completed"
    },
    "tags": []
   },
   "outputs": [
    {
     "name": "stderr",
     "output_type": "stream",
     "text": [
      "/opt/conda/lib/python3.10/site-packages/scipy/__init__.py:146: UserWarning: A NumPy version >=1.16.5 and <1.23.0 is required for this version of SciPy (detected version 1.23.5\n",
      "  warnings.warn(f\"A NumPy version >={np_minversion} and <{np_maxversion}\"\n"
     ]
    },
    {
     "name": "stderr",
     "output_type": "stream",
     "text": [
      "/opt/conda/lib/python3.10/site-packages/tensorflow_io/python/ops/__init__.py:98: UserWarning: unable to load libtensorflow_io_plugins.so: unable to open file: libtensorflow_io_plugins.so, from paths: ['/opt/conda/lib/python3.10/site-packages/tensorflow_io/python/ops/libtensorflow_io_plugins.so']\n",
      "caused by: ['/opt/conda/lib/python3.10/site-packages/tensorflow_io/python/ops/libtensorflow_io_plugins.so: undefined symbol: _ZN3tsl6StatusC1EN10tensorflow5error4CodeESt17basic_string_viewIcSt11char_traitsIcEENS_14SourceLocationE']\n",
      "  warnings.warn(f\"unable to load libtensorflow_io_plugins.so: {e}\")\n",
      "/opt/conda/lib/python3.10/site-packages/tensorflow_io/python/ops/__init__.py:104: UserWarning: file system plugins are not loaded: unable to open file: libtensorflow_io.so, from paths: ['/opt/conda/lib/python3.10/site-packages/tensorflow_io/python/ops/libtensorflow_io.so']\n",
      "caused by: ['/opt/conda/lib/python3.10/site-packages/tensorflow_io/python/ops/libtensorflow_io.so: undefined symbol: _ZTVN10tensorflow13GcsFileSystemE']\n",
      "  warnings.warn(f\"file system plugins are not loaded: {e}\")\n"
     ]
    },
    {
     "name": "stdout",
     "output_type": "stream",
     "text": [
      "Device Selected: cuda\n"
     ]
    }
   ],
   "source": [
    "import torch\n",
    "from model import Model\n",
    "from pytorch_lightning import Trainer\n",
    "from pytorch_lightning.callbacks import LearningRateMonitor, ModelCheckpoint"
   ]
  },
  {
   "cell_type": "code",
   "execution_count": 3,
   "id": "33f23f7d",
   "metadata": {
    "execution": {
     "iopub.execute_input": "2023-08-12T11:45:55.995548Z",
     "iopub.status.busy": "2023-08-12T11:45:55.995239Z",
     "iopub.status.idle": "2023-08-12T11:45:57.613567Z",
     "shell.execute_reply": "2023-08-12T11:45:57.610644Z"
    },
    "papermill": {
     "duration": 1.627017,
     "end_time": "2023-08-12T11:45:57.616822",
     "exception": false,
     "start_time": "2023-08-12T11:45:55.989805",
     "status": "completed"
    },
    "tags": []
   },
   "outputs": [],
   "source": [
    "model = Model(learning_rate=2e-4)\n",
    "trainer = Trainer(precision='16-mixed', devices=-1, max_epochs=40,\n",
    "                 callbacks=[\n",
    "                      LearningRateMonitor(logging_interval='step'),\n",
    "                      ModelCheckpoint(\n",
    "                          dirpath='checkpoints/',\n",
    "                          filename='{epoch}-{val_loss:.2f}',\n",
    "                          save_last=True\n",
    "                      )])"
   ]
  },
  {
   "cell_type": "code",
   "execution_count": 4,
   "id": "4d409ff5",
   "metadata": {
    "execution": {
     "iopub.execute_input": "2023-08-12T11:45:57.630787Z",
     "iopub.status.busy": "2023-08-12T11:45:57.630261Z",
     "iopub.status.idle": "2023-08-12T11:45:57.635143Z",
     "shell.execute_reply": "2023-08-12T11:45:57.634273Z"
    },
    "papermill": {
     "duration": 0.016102,
     "end_time": "2023-08-12T11:45:57.639287",
     "exception": false,
     "start_time": "2023-08-12T11:45:57.623185",
     "status": "completed"
    },
    "tags": []
   },
   "outputs": [],
   "source": [
    "# from pytorch_lightning.tuner import Tuner\n",
    "# tuner = Tuner(trainer)\n",
    "# lrf = tuner.lr_find(model, min_lr=1e-6, max_lr=1e-4, num_training=200)\n",
    "# lrf.plot(suggest=True)\n",
    "# print(lrf.suggestion())"
   ]
  },
  {
   "cell_type": "code",
   "execution_count": 5,
   "id": "eafc3c5c",
   "metadata": {
    "execution": {
     "iopub.execute_input": "2023-08-12T11:45:57.652946Z",
     "iopub.status.busy": "2023-08-12T11:45:57.652488Z"
    },
    "papermill": {
     "duration": null,
     "end_time": null,
     "exception": false,
     "start_time": "2023-08-12T11:45:57.645275",
     "status": "running"
    },
    "tags": []
   },
   "outputs": [
    {
     "name": "stdout",
     "output_type": "stream",
     "text": [
      "Val Loss: "
     ]
    },
    {
     "name": "stdout",
     "output_type": "stream",
     "text": [
      "Val Loss: "
     ]
    },
    {
     "name": "stdout",
     "output_type": "stream",
     "text": [
      " "
     ]
    },
    {
     "name": "stdout",
     "output_type": "stream",
     "text": [
      " "
     ]
    },
    {
     "name": "stdout",
     "output_type": "stream",
     "text": [
      "tensor(37.9884, device='cuda:1')"
     ]
    },
    {
     "name": "stdout",
     "output_type": "stream",
     "text": [
      "tensor(37.9884, device='cuda:0')"
     ]
    },
    {
     "name": "stdout",
     "output_type": "stream",
     "text": [
      "\n"
     ]
    },
    {
     "name": "stdout",
     "output_type": "stream",
     "text": [
      "\n"
     ]
    },
    {
     "data": {
      "application/vnd.jupyter.widget-view+json": {
       "model_id": "f154d4305c274b9db85e7227180235a0",
       "version_major": 2,
       "version_minor": 0
      },
      "text/plain": [
       "Training: 0it [00:00, ?it/s]"
      ]
     },
     "metadata": {},
     "output_type": "display_data"
    },
    {
     "data": {
      "application/vnd.jupyter.widget-view+json": {
       "model_id": "75d337c3a45847b09c93478df890ecdd",
       "version_major": 2,
       "version_minor": 0
      },
      "text/plain": [
       "Validation: 0it [00:00, ?it/s]"
      ]
     },
     "metadata": {},
     "output_type": "display_data"
    },
    {
     "name": "stdout",
     "output_type": "stream",
     "text": [
      "Val Loss: "
     ]
    },
    {
     "name": "stdout",
     "output_type": "stream",
     "text": [
      "Val Loss: "
     ]
    },
    {
     "name": "stdout",
     "output_type": "stream",
     "text": [
      " "
     ]
    },
    {
     "name": "stdout",
     "output_type": "stream",
     "text": [
      "tensor(16.6963, device='cuda:1')"
     ]
    },
    {
     "name": "stdout",
     "output_type": "stream",
     "text": [
      " "
     ]
    },
    {
     "name": "stdout",
     "output_type": "stream",
     "text": [
      "\n"
     ]
    },
    {
     "name": "stdout",
     "output_type": "stream",
     "text": [
      "tensor(16.6963, device='cuda:0')"
     ]
    },
    {
     "name": "stdout",
     "output_type": "stream",
     "text": [
      "\n"
     ]
    },
    {
     "name": "stderr",
     "output_type": "stream",
     "text": [
      "/opt/conda/lib/python3.10/site-packages/pytorch_lightning/trainer/connectors/logger_connector/result.py:432: PossibleUserWarning: It is recommended to use `self.log('train_loss', ..., sync_dist=True)` when logging on epoch level in distributed setting to accumulate the metric across devices.\n",
      "  warning_cache.warn(\n"
     ]
    },
    {
     "name": "stdout",
     "output_type": "stream",
     "text": [
      "Train Loss: "
     ]
    },
    {
     "name": "stdout",
     "output_type": "stream",
     "text": [
      " "
     ]
    },
    {
     "name": "stdout",
     "output_type": "stream",
     "text": [
      "Train Loss: "
     ]
    },
    {
     "name": "stdout",
     "output_type": "stream",
     "text": [
      " "
     ]
    },
    {
     "name": "stdout",
     "output_type": "stream",
     "text": [
      "tensor(22.5268, device='cuda:1')"
     ]
    },
    {
     "name": "stdout",
     "output_type": "stream",
     "text": [
      "tensor(22.5268, device='cuda:0')"
     ]
    },
    {
     "name": "stdout",
     "output_type": "stream",
     "text": [
      "\n"
     ]
    },
    {
     "name": "stdout",
     "output_type": "stream",
     "text": [
      "\n"
     ]
    },
    {
     "data": {
      "application/vnd.jupyter.widget-view+json": {
       "model_id": "de4d5278defa424dbb60bff0cbbcfcff",
       "version_major": 2,
       "version_minor": 0
      },
      "text/plain": [
       "Validation: 0it [00:00, ?it/s]"
      ]
     },
     "metadata": {},
     "output_type": "display_data"
    },
    {
     "name": "stdout",
     "output_type": "stream",
     "text": [
      "Val Loss: "
     ]
    },
    {
     "name": "stdout",
     "output_type": "stream",
     "text": [
      "Val Loss: "
     ]
    },
    {
     "name": "stdout",
     "output_type": "stream",
     "text": [
      " "
     ]
    },
    {
     "name": "stdout",
     "output_type": "stream",
     "text": [
      " "
     ]
    },
    {
     "name": "stdout",
     "output_type": "stream",
     "text": [
      "tensor(15.1526, device='cuda:1')"
     ]
    },
    {
     "name": "stdout",
     "output_type": "stream",
     "text": [
      "tensor(15.1526, device='cuda:0')"
     ]
    },
    {
     "name": "stdout",
     "output_type": "stream",
     "text": [
      "\n"
     ]
    },
    {
     "name": "stdout",
     "output_type": "stream",
     "text": [
      "\n"
     ]
    },
    {
     "name": "stdout",
     "output_type": "stream",
     "text": [
      "Train Loss: "
     ]
    },
    {
     "name": "stdout",
     "output_type": "stream",
     "text": [
      "Train Loss: "
     ]
    },
    {
     "name": "stdout",
     "output_type": "stream",
     "text": [
      " "
     ]
    },
    {
     "name": "stdout",
     "output_type": "stream",
     "text": [
      " "
     ]
    },
    {
     "name": "stdout",
     "output_type": "stream",
     "text": [
      "tensor(15.8885, device='cuda:1')"
     ]
    },
    {
     "name": "stdout",
     "output_type": "stream",
     "text": [
      "tensor(15.8885, device='cuda:0')"
     ]
    },
    {
     "name": "stdout",
     "output_type": "stream",
     "text": [
      "\n"
     ]
    },
    {
     "name": "stdout",
     "output_type": "stream",
     "text": [
      "\n"
     ]
    },
    {
     "data": {
      "application/vnd.jupyter.widget-view+json": {
       "model_id": "95681875314f4178a0f0bceefead7cd0",
       "version_major": 2,
       "version_minor": 0
      },
      "text/plain": [
       "Validation: 0it [00:00, ?it/s]"
      ]
     },
     "metadata": {},
     "output_type": "display_data"
    },
    {
     "name": "stdout",
     "output_type": "stream",
     "text": [
      "Val Loss: "
     ]
    },
    {
     "name": "stdout",
     "output_type": "stream",
     "text": [
      "Val Loss: "
     ]
    },
    {
     "name": "stdout",
     "output_type": "stream",
     "text": [
      " "
     ]
    },
    {
     "name": "stdout",
     "output_type": "stream",
     "text": [
      " "
     ]
    },
    {
     "name": "stdout",
     "output_type": "stream",
     "text": [
      "tensor(13.8724, device='cuda:0')"
     ]
    },
    {
     "name": "stdout",
     "output_type": "stream",
     "text": [
      "\n"
     ]
    },
    {
     "name": "stdout",
     "output_type": "stream",
     "text": [
      "tensor(13.8724, device='cuda:1')"
     ]
    },
    {
     "name": "stdout",
     "output_type": "stream",
     "text": [
      "\n"
     ]
    },
    {
     "name": "stdout",
     "output_type": "stream",
     "text": [
      "Train Loss: "
     ]
    },
    {
     "name": "stdout",
     "output_type": "stream",
     "text": [
      "Train Loss: "
     ]
    },
    {
     "name": "stdout",
     "output_type": "stream",
     "text": [
      " "
     ]
    },
    {
     "name": "stdout",
     "output_type": "stream",
     "text": [
      "tensor(14.9231, device='cuda:0')"
     ]
    },
    {
     "name": "stdout",
     "output_type": "stream",
     "text": [
      " "
     ]
    },
    {
     "name": "stdout",
     "output_type": "stream",
     "text": [
      "tensor(14.9231, device='cuda:1')"
     ]
    },
    {
     "name": "stdout",
     "output_type": "stream",
     "text": [
      "\n"
     ]
    },
    {
     "name": "stdout",
     "output_type": "stream",
     "text": [
      "\n"
     ]
    },
    {
     "data": {
      "application/vnd.jupyter.widget-view+json": {
       "model_id": "0b0406f440e4467f843e554f25533dde",
       "version_major": 2,
       "version_minor": 0
      },
      "text/plain": [
       "Validation: 0it [00:00, ?it/s]"
      ]
     },
     "metadata": {},
     "output_type": "display_data"
    },
    {
     "name": "stdout",
     "output_type": "stream",
     "text": [
      "Val Loss: "
     ]
    },
    {
     "name": "stdout",
     "output_type": "stream",
     "text": [
      "Val Loss: "
     ]
    },
    {
     "name": "stdout",
     "output_type": "stream",
     "text": [
      " "
     ]
    },
    {
     "name": "stdout",
     "output_type": "stream",
     "text": [
      " "
     ]
    },
    {
     "name": "stdout",
     "output_type": "stream",
     "text": [
      "tensor(13.3190, device='cuda:1')"
     ]
    },
    {
     "name": "stdout",
     "output_type": "stream",
     "text": [
      "tensor(13.3190, device='cuda:0')"
     ]
    },
    {
     "name": "stdout",
     "output_type": "stream",
     "text": [
      "\n"
     ]
    },
    {
     "name": "stdout",
     "output_type": "stream",
     "text": [
      "\n"
     ]
    },
    {
     "name": "stdout",
     "output_type": "stream",
     "text": [
      "Train Loss: "
     ]
    },
    {
     "name": "stdout",
     "output_type": "stream",
     "text": [
      "Train Loss: "
     ]
    },
    {
     "name": "stdout",
     "output_type": "stream",
     "text": [
      " "
     ]
    },
    {
     "name": "stdout",
     "output_type": "stream",
     "text": [
      " "
     ]
    },
    {
     "name": "stdout",
     "output_type": "stream",
     "text": [
      "tensor(14.3241, device='cuda:1')"
     ]
    },
    {
     "name": "stdout",
     "output_type": "stream",
     "text": [
      "tensor(14.3241, device='cuda:0')"
     ]
    },
    {
     "name": "stdout",
     "output_type": "stream",
     "text": [
      "\n"
     ]
    },
    {
     "name": "stdout",
     "output_type": "stream",
     "text": [
      "\n"
     ]
    },
    {
     "data": {
      "application/vnd.jupyter.widget-view+json": {
       "model_id": "99ac8fe25a6041dc85dc5c50f72d1ad4",
       "version_major": 2,
       "version_minor": 0
      },
      "text/plain": [
       "Validation: 0it [00:00, ?it/s]"
      ]
     },
     "metadata": {},
     "output_type": "display_data"
    },
    {
     "name": "stdout",
     "output_type": "stream",
     "text": [
      "Val Loss: "
     ]
    },
    {
     "name": "stdout",
     "output_type": "stream",
     "text": [
      "Val Loss: "
     ]
    },
    {
     "name": "stdout",
     "output_type": "stream",
     "text": [
      " "
     ]
    },
    {
     "name": "stdout",
     "output_type": "stream",
     "text": [
      " "
     ]
    },
    {
     "name": "stdout",
     "output_type": "stream",
     "text": [
      "tensor(12.9934, device='cuda:1')"
     ]
    },
    {
     "name": "stdout",
     "output_type": "stream",
     "text": [
      "\n"
     ]
    },
    {
     "name": "stdout",
     "output_type": "stream",
     "text": [
      "tensor(12.9934, device='cuda:0')"
     ]
    },
    {
     "name": "stdout",
     "output_type": "stream",
     "text": [
      "\n"
     ]
    },
    {
     "name": "stdout",
     "output_type": "stream",
     "text": [
      "Train Loss: "
     ]
    },
    {
     "name": "stdout",
     "output_type": "stream",
     "text": [
      "Train Loss: "
     ]
    },
    {
     "name": "stdout",
     "output_type": "stream",
     "text": [
      " "
     ]
    },
    {
     "name": "stdout",
     "output_type": "stream",
     "text": [
      "tensor(13.9048, device='cuda:1')"
     ]
    },
    {
     "name": "stdout",
     "output_type": "stream",
     "text": [
      "\n"
     ]
    },
    {
     "name": "stdout",
     "output_type": "stream",
     "text": [
      " "
     ]
    },
    {
     "name": "stdout",
     "output_type": "stream",
     "text": [
      "tensor(13.9048, device='cuda:0')"
     ]
    },
    {
     "name": "stdout",
     "output_type": "stream",
     "text": [
      "\n"
     ]
    },
    {
     "data": {
      "application/vnd.jupyter.widget-view+json": {
       "model_id": "eab9ea1c9ce643d490edffccb94e298f",
       "version_major": 2,
       "version_minor": 0
      },
      "text/plain": [
       "Validation: 0it [00:00, ?it/s]"
      ]
     },
     "metadata": {},
     "output_type": "display_data"
    },
    {
     "name": "stdout",
     "output_type": "stream",
     "text": [
      "Val Loss: "
     ]
    },
    {
     "name": "stdout",
     "output_type": "stream",
     "text": [
      "Val Loss: "
     ]
    },
    {
     "name": "stdout",
     "output_type": "stream",
     "text": [
      " "
     ]
    },
    {
     "name": "stdout",
     "output_type": "stream",
     "text": [
      " "
     ]
    },
    {
     "name": "stdout",
     "output_type": "stream",
     "text": [
      "tensor(12.1213, device='cuda:1')"
     ]
    },
    {
     "name": "stdout",
     "output_type": "stream",
     "text": [
      "tensor(12.1213, device='cuda:0')"
     ]
    },
    {
     "name": "stdout",
     "output_type": "stream",
     "text": [
      "\n"
     ]
    },
    {
     "name": "stdout",
     "output_type": "stream",
     "text": [
      "\n"
     ]
    },
    {
     "name": "stdout",
     "output_type": "stream",
     "text": [
      "Train Loss: "
     ]
    },
    {
     "name": "stdout",
     "output_type": "stream",
     "text": [
      " "
     ]
    },
    {
     "name": "stdout",
     "output_type": "stream",
     "text": [
      "Train Loss: "
     ]
    },
    {
     "name": "stdout",
     "output_type": "stream",
     "text": [
      " "
     ]
    },
    {
     "name": "stdout",
     "output_type": "stream",
     "text": [
      "tensor(13.3506, device='cuda:1')"
     ]
    },
    {
     "name": "stdout",
     "output_type": "stream",
     "text": [
      "tensor(13.3506, device='cuda:0')"
     ]
    },
    {
     "name": "stdout",
     "output_type": "stream",
     "text": [
      "\n"
     ]
    },
    {
     "name": "stdout",
     "output_type": "stream",
     "text": [
      "\n"
     ]
    },
    {
     "data": {
      "application/vnd.jupyter.widget-view+json": {
       "model_id": "d84baf832b8644e18e56b86a0002e33c",
       "version_major": 2,
       "version_minor": 0
      },
      "text/plain": [
       "Validation: 0it [00:00, ?it/s]"
      ]
     },
     "metadata": {},
     "output_type": "display_data"
    },
    {
     "name": "stdout",
     "output_type": "stream",
     "text": [
      "Val Loss: "
     ]
    },
    {
     "name": "stdout",
     "output_type": "stream",
     "text": [
      "Val Loss: "
     ]
    },
    {
     "name": "stdout",
     "output_type": "stream",
     "text": [
      " "
     ]
    },
    {
     "name": "stdout",
     "output_type": "stream",
     "text": [
      " "
     ]
    },
    {
     "name": "stdout",
     "output_type": "stream",
     "text": [
      "tensor(11.7650, device='cuda:0')"
     ]
    },
    {
     "name": "stdout",
     "output_type": "stream",
     "text": [
      "\n"
     ]
    },
    {
     "name": "stdout",
     "output_type": "stream",
     "text": [
      "tensor(11.7650, device='cuda:1')"
     ]
    },
    {
     "name": "stdout",
     "output_type": "stream",
     "text": [
      "\n"
     ]
    },
    {
     "name": "stdout",
     "output_type": "stream",
     "text": [
      "Train Loss: "
     ]
    },
    {
     "name": "stdout",
     "output_type": "stream",
     "text": [
      "Train Loss: "
     ]
    },
    {
     "name": "stdout",
     "output_type": "stream",
     "text": [
      " "
     ]
    },
    {
     "name": "stdout",
     "output_type": "stream",
     "text": [
      " "
     ]
    },
    {
     "name": "stdout",
     "output_type": "stream",
     "text": [
      "tensor(13.0077, device='cuda:0')"
     ]
    },
    {
     "name": "stdout",
     "output_type": "stream",
     "text": [
      "\n"
     ]
    },
    {
     "name": "stdout",
     "output_type": "stream",
     "text": [
      "tensor(13.0077, device='cuda:1')"
     ]
    },
    {
     "name": "stdout",
     "output_type": "stream",
     "text": [
      "\n"
     ]
    },
    {
     "data": {
      "application/vnd.jupyter.widget-view+json": {
       "model_id": "dff7b4e5602142c7b4e658b93d94d50f",
       "version_major": 2,
       "version_minor": 0
      },
      "text/plain": [
       "Validation: 0it [00:00, ?it/s]"
      ]
     },
     "metadata": {},
     "output_type": "display_data"
    },
    {
     "name": "stdout",
     "output_type": "stream",
     "text": [
      "Val Loss: "
     ]
    },
    {
     "name": "stdout",
     "output_type": "stream",
     "text": [
      "Val Loss: "
     ]
    },
    {
     "name": "stdout",
     "output_type": "stream",
     "text": [
      " "
     ]
    },
    {
     "name": "stdout",
     "output_type": "stream",
     "text": [
      " "
     ]
    },
    {
     "name": "stdout",
     "output_type": "stream",
     "text": [
      "tensor(11.2849, device='cuda:0')"
     ]
    },
    {
     "name": "stdout",
     "output_type": "stream",
     "text": [
      "\n"
     ]
    },
    {
     "name": "stdout",
     "output_type": "stream",
     "text": [
      "tensor(11.2849, device='cuda:1')"
     ]
    },
    {
     "name": "stdout",
     "output_type": "stream",
     "text": [
      "\n"
     ]
    },
    {
     "name": "stdout",
     "output_type": "stream",
     "text": [
      "Train Loss: "
     ]
    },
    {
     "name": "stdout",
     "output_type": "stream",
     "text": [
      "Train Loss: "
     ]
    },
    {
     "name": "stdout",
     "output_type": "stream",
     "text": [
      " "
     ]
    },
    {
     "name": "stdout",
     "output_type": "stream",
     "text": [
      " "
     ]
    },
    {
     "name": "stdout",
     "output_type": "stream",
     "text": [
      "tensor(12.4911, device='cuda:0')"
     ]
    },
    {
     "name": "stdout",
     "output_type": "stream",
     "text": [
      "\n"
     ]
    },
    {
     "name": "stdout",
     "output_type": "stream",
     "text": [
      "tensor(12.4911, device='cuda:1')"
     ]
    },
    {
     "name": "stdout",
     "output_type": "stream",
     "text": [
      "\n"
     ]
    },
    {
     "data": {
      "application/vnd.jupyter.widget-view+json": {
       "model_id": "68d3eb8e484c4d5b81f9403e0a887163",
       "version_major": 2,
       "version_minor": 0
      },
      "text/plain": [
       "Validation: 0it [00:00, ?it/s]"
      ]
     },
     "metadata": {},
     "output_type": "display_data"
    },
    {
     "name": "stdout",
     "output_type": "stream",
     "text": [
      "Val Loss: "
     ]
    },
    {
     "name": "stdout",
     "output_type": "stream",
     "text": [
      "Val Loss: "
     ]
    },
    {
     "name": "stdout",
     "output_type": "stream",
     "text": [
      " "
     ]
    },
    {
     "name": "stdout",
     "output_type": "stream",
     "text": [
      "tensor(11.0286, device='cuda:0')"
     ]
    },
    {
     "name": "stdout",
     "output_type": "stream",
     "text": [
      "\n"
     ]
    },
    {
     "name": "stdout",
     "output_type": "stream",
     "text": [
      " "
     ]
    },
    {
     "name": "stdout",
     "output_type": "stream",
     "text": [
      "tensor(11.0286, device='cuda:1')"
     ]
    },
    {
     "name": "stdout",
     "output_type": "stream",
     "text": [
      "\n"
     ]
    },
    {
     "name": "stdout",
     "output_type": "stream",
     "text": [
      "Train Loss: "
     ]
    },
    {
     "name": "stdout",
     "output_type": "stream",
     "text": [
      "Train Loss: "
     ]
    },
    {
     "name": "stdout",
     "output_type": "stream",
     "text": [
      " "
     ]
    },
    {
     "name": "stdout",
     "output_type": "stream",
     "text": [
      "tensor(12.1940, device='cuda:0')"
     ]
    },
    {
     "name": "stdout",
     "output_type": "stream",
     "text": [
      " "
     ]
    },
    {
     "name": "stdout",
     "output_type": "stream",
     "text": [
      "\n"
     ]
    },
    {
     "name": "stdout",
     "output_type": "stream",
     "text": [
      "tensor(12.1940, device='cuda:1')"
     ]
    },
    {
     "name": "stdout",
     "output_type": "stream",
     "text": [
      "\n"
     ]
    },
    {
     "data": {
      "application/vnd.jupyter.widget-view+json": {
       "model_id": "f04461e165f44f239e52622d54f7970f",
       "version_major": 2,
       "version_minor": 0
      },
      "text/plain": [
       "Validation: 0it [00:00, ?it/s]"
      ]
     },
     "metadata": {},
     "output_type": "display_data"
    },
    {
     "name": "stdout",
     "output_type": "stream",
     "text": [
      "Val Loss: "
     ]
    },
    {
     "name": "stdout",
     "output_type": "stream",
     "text": [
      "Val Loss: "
     ]
    },
    {
     "name": "stdout",
     "output_type": "stream",
     "text": [
      " "
     ]
    },
    {
     "name": "stdout",
     "output_type": "stream",
     "text": [
      "tensor(10.3218, device='cuda:0')"
     ]
    },
    {
     "name": "stdout",
     "output_type": "stream",
     "text": [
      " "
     ]
    },
    {
     "name": "stdout",
     "output_type": "stream",
     "text": [
      "\n"
     ]
    },
    {
     "name": "stdout",
     "output_type": "stream",
     "text": [
      "tensor(10.3218, device='cuda:1')"
     ]
    },
    {
     "name": "stdout",
     "output_type": "stream",
     "text": [
      "\n"
     ]
    },
    {
     "name": "stdout",
     "output_type": "stream",
     "text": [
      "Train Loss: "
     ]
    },
    {
     "name": "stdout",
     "output_type": "stream",
     "text": [
      "Train Loss: "
     ]
    },
    {
     "name": "stdout",
     "output_type": "stream",
     "text": [
      " "
     ]
    },
    {
     "name": "stdout",
     "output_type": "stream",
     "text": [
      " "
     ]
    },
    {
     "name": "stdout",
     "output_type": "stream",
     "text": [
      "tensor(11.8516, device='cuda:0')"
     ]
    },
    {
     "name": "stdout",
     "output_type": "stream",
     "text": [
      "tensor(11.8516, device='cuda:1')"
     ]
    },
    {
     "name": "stdout",
     "output_type": "stream",
     "text": [
      "\n"
     ]
    },
    {
     "name": "stdout",
     "output_type": "stream",
     "text": [
      "\n"
     ]
    },
    {
     "data": {
      "application/vnd.jupyter.widget-view+json": {
       "model_id": "eb5bf249575049b09a867728ac26cda0",
       "version_major": 2,
       "version_minor": 0
      },
      "text/plain": [
       "Validation: 0it [00:00, ?it/s]"
      ]
     },
     "metadata": {},
     "output_type": "display_data"
    },
    {
     "name": "stdout",
     "output_type": "stream",
     "text": [
      "Val Loss: "
     ]
    },
    {
     "name": "stdout",
     "output_type": "stream",
     "text": [
      "Val Loss: "
     ]
    },
    {
     "name": "stdout",
     "output_type": "stream",
     "text": [
      " "
     ]
    },
    {
     "name": "stdout",
     "output_type": "stream",
     "text": [
      " "
     ]
    },
    {
     "name": "stdout",
     "output_type": "stream",
     "text": [
      "tensor(10.9606, device='cuda:1')"
     ]
    },
    {
     "name": "stdout",
     "output_type": "stream",
     "text": [
      "tensor(10.9606, device='cuda:0')"
     ]
    },
    {
     "name": "stdout",
     "output_type": "stream",
     "text": [
      "\n"
     ]
    },
    {
     "name": "stdout",
     "output_type": "stream",
     "text": [
      "\n"
     ]
    },
    {
     "name": "stdout",
     "output_type": "stream",
     "text": [
      "Train Loss: "
     ]
    },
    {
     "name": "stdout",
     "output_type": "stream",
     "text": [
      " "
     ]
    },
    {
     "name": "stdout",
     "output_type": "stream",
     "text": [
      "Train Loss: "
     ]
    },
    {
     "name": "stdout",
     "output_type": "stream",
     "text": [
      " "
     ]
    },
    {
     "name": "stdout",
     "output_type": "stream",
     "text": [
      "tensor(11.4429, device='cuda:1')"
     ]
    },
    {
     "name": "stdout",
     "output_type": "stream",
     "text": [
      "tensor(11.4429, device='cuda:0')"
     ]
    },
    {
     "name": "stdout",
     "output_type": "stream",
     "text": [
      "\n"
     ]
    },
    {
     "name": "stdout",
     "output_type": "stream",
     "text": [
      "\n"
     ]
    },
    {
     "data": {
      "application/vnd.jupyter.widget-view+json": {
       "model_id": "3193ca4923db4f2d81de3b1afa4cac53",
       "version_major": 2,
       "version_minor": 0
      },
      "text/plain": [
       "Validation: 0it [00:00, ?it/s]"
      ]
     },
     "metadata": {},
     "output_type": "display_data"
    },
    {
     "name": "stdout",
     "output_type": "stream",
     "text": [
      "Val Loss: "
     ]
    },
    {
     "name": "stdout",
     "output_type": "stream",
     "text": [
      "Val Loss: "
     ]
    },
    {
     "name": "stdout",
     "output_type": "stream",
     "text": [
      " "
     ]
    },
    {
     "name": "stdout",
     "output_type": "stream",
     "text": [
      " "
     ]
    },
    {
     "name": "stdout",
     "output_type": "stream",
     "text": [
      "tensor(9.6293, device='cuda:1')"
     ]
    },
    {
     "name": "stdout",
     "output_type": "stream",
     "text": [
      "\n"
     ]
    },
    {
     "name": "stdout",
     "output_type": "stream",
     "text": [
      "tensor(9.6293, device='cuda:0')"
     ]
    },
    {
     "name": "stdout",
     "output_type": "stream",
     "text": [
      "\n"
     ]
    },
    {
     "name": "stdout",
     "output_type": "stream",
     "text": [
      "Train Loss: "
     ]
    },
    {
     "name": "stdout",
     "output_type": "stream",
     "text": [
      "Train Loss: "
     ]
    },
    {
     "name": "stdout",
     "output_type": "stream",
     "text": [
      " "
     ]
    },
    {
     "name": "stdout",
     "output_type": "stream",
     "text": [
      " "
     ]
    },
    {
     "name": "stdout",
     "output_type": "stream",
     "text": [
      "tensor(11.0827, device='cuda:0')"
     ]
    },
    {
     "name": "stdout",
     "output_type": "stream",
     "text": [
      "tensor(11.0827, device='cuda:1')"
     ]
    },
    {
     "name": "stdout",
     "output_type": "stream",
     "text": [
      "\n"
     ]
    },
    {
     "name": "stdout",
     "output_type": "stream",
     "text": [
      "\n"
     ]
    },
    {
     "data": {
      "application/vnd.jupyter.widget-view+json": {
       "model_id": "bb5905aee7974326b764b6395adbbd9a",
       "version_major": 2,
       "version_minor": 0
      },
      "text/plain": [
       "Validation: 0it [00:00, ?it/s]"
      ]
     },
     "metadata": {},
     "output_type": "display_data"
    },
    {
     "name": "stdout",
     "output_type": "stream",
     "text": [
      "Val Loss: "
     ]
    },
    {
     "name": "stdout",
     "output_type": "stream",
     "text": [
      "Val Loss: "
     ]
    },
    {
     "name": "stdout",
     "output_type": "stream",
     "text": [
      " "
     ]
    },
    {
     "name": "stdout",
     "output_type": "stream",
     "text": [
      "tensor(9.2543, device='cuda:1')"
     ]
    },
    {
     "name": "stdout",
     "output_type": "stream",
     "text": [
      " "
     ]
    },
    {
     "name": "stdout",
     "output_type": "stream",
     "text": [
      "tensor(9.2543, device='cuda:0')"
     ]
    },
    {
     "name": "stdout",
     "output_type": "stream",
     "text": [
      "\n"
     ]
    },
    {
     "name": "stdout",
     "output_type": "stream",
     "text": [
      "\n"
     ]
    },
    {
     "name": "stdout",
     "output_type": "stream",
     "text": [
      "Train Loss: "
     ]
    },
    {
     "name": "stdout",
     "output_type": "stream",
     "text": [
      "Train Loss: "
     ]
    },
    {
     "name": "stdout",
     "output_type": "stream",
     "text": [
      " "
     ]
    },
    {
     "name": "stdout",
     "output_type": "stream",
     "text": [
      " "
     ]
    },
    {
     "name": "stdout",
     "output_type": "stream",
     "text": [
      "tensor(10.7434, device='cuda:1')"
     ]
    },
    {
     "name": "stdout",
     "output_type": "stream",
     "text": [
      "\n"
     ]
    },
    {
     "name": "stdout",
     "output_type": "stream",
     "text": [
      "tensor(10.7434, device='cuda:0')"
     ]
    },
    {
     "name": "stdout",
     "output_type": "stream",
     "text": [
      "\n"
     ]
    },
    {
     "data": {
      "application/vnd.jupyter.widget-view+json": {
       "model_id": "516f0bb328d3462983a5734ba3ba4d83",
       "version_major": 2,
       "version_minor": 0
      },
      "text/plain": [
       "Validation: 0it [00:00, ?it/s]"
      ]
     },
     "metadata": {},
     "output_type": "display_data"
    },
    {
     "name": "stdout",
     "output_type": "stream",
     "text": [
      "Val Loss: "
     ]
    },
    {
     "name": "stdout",
     "output_type": "stream",
     "text": [
      "Val Loss: "
     ]
    },
    {
     "name": "stdout",
     "output_type": "stream",
     "text": [
      " "
     ]
    },
    {
     "name": "stdout",
     "output_type": "stream",
     "text": [
      " "
     ]
    },
    {
     "name": "stdout",
     "output_type": "stream",
     "text": [
      "tensor(8.9690, device='cuda:0')"
     ]
    },
    {
     "name": "stdout",
     "output_type": "stream",
     "text": [
      "tensor(8.9690, device='cuda:1')"
     ]
    },
    {
     "name": "stdout",
     "output_type": "stream",
     "text": [
      "\n"
     ]
    },
    {
     "name": "stdout",
     "output_type": "stream",
     "text": [
      "\n"
     ]
    },
    {
     "name": "stdout",
     "output_type": "stream",
     "text": [
      "Train Loss: "
     ]
    },
    {
     "name": "stdout",
     "output_type": "stream",
     "text": [
      "Train Loss: "
     ]
    },
    {
     "name": "stdout",
     "output_type": "stream",
     "text": [
      " "
     ]
    },
    {
     "name": "stdout",
     "output_type": "stream",
     "text": [
      "tensor(10.4368, device='cuda:1')"
     ]
    },
    {
     "name": "stdout",
     "output_type": "stream",
     "text": [
      "\n"
     ]
    },
    {
     "name": "stdout",
     "output_type": "stream",
     "text": [
      " "
     ]
    },
    {
     "name": "stdout",
     "output_type": "stream",
     "text": [
      "tensor(10.4368, device='cuda:0')"
     ]
    },
    {
     "name": "stdout",
     "output_type": "stream",
     "text": [
      "\n"
     ]
    },
    {
     "data": {
      "application/vnd.jupyter.widget-view+json": {
       "model_id": "e8136935389b45d88b1ba5a54fc5a156",
       "version_major": 2,
       "version_minor": 0
      },
      "text/plain": [
       "Validation: 0it [00:00, ?it/s]"
      ]
     },
     "metadata": {},
     "output_type": "display_data"
    },
    {
     "name": "stdout",
     "output_type": "stream",
     "text": [
      "Val Loss: "
     ]
    },
    {
     "name": "stdout",
     "output_type": "stream",
     "text": [
      "Val Loss: "
     ]
    },
    {
     "name": "stdout",
     "output_type": "stream",
     "text": [
      " "
     ]
    },
    {
     "name": "stdout",
     "output_type": "stream",
     "text": [
      "tensor(8.6044, device='cuda:1')"
     ]
    },
    {
     "name": "stdout",
     "output_type": "stream",
     "text": [
      "\n"
     ]
    },
    {
     "name": "stdout",
     "output_type": "stream",
     "text": [
      " "
     ]
    },
    {
     "name": "stdout",
     "output_type": "stream",
     "text": [
      "tensor(8.6044, device='cuda:0')"
     ]
    },
    {
     "name": "stdout",
     "output_type": "stream",
     "text": [
      "\n"
     ]
    },
    {
     "name": "stdout",
     "output_type": "stream",
     "text": [
      "Train Loss: "
     ]
    },
    {
     "name": "stdout",
     "output_type": "stream",
     "text": [
      "Train Loss: "
     ]
    },
    {
     "name": "stdout",
     "output_type": "stream",
     "text": [
      " "
     ]
    },
    {
     "name": "stdout",
     "output_type": "stream",
     "text": [
      " "
     ]
    },
    {
     "name": "stdout",
     "output_type": "stream",
     "text": [
      "tensor(10.1848, device='cuda:0')"
     ]
    },
    {
     "name": "stdout",
     "output_type": "stream",
     "text": [
      "\n"
     ]
    },
    {
     "name": "stdout",
     "output_type": "stream",
     "text": [
      "tensor(10.1848, device='cuda:1')"
     ]
    },
    {
     "name": "stdout",
     "output_type": "stream",
     "text": [
      "\n"
     ]
    },
    {
     "data": {
      "application/vnd.jupyter.widget-view+json": {
       "model_id": "909cad1adf50402788034db14656005d",
       "version_major": 2,
       "version_minor": 0
      },
      "text/plain": [
       "Validation: 0it [00:00, ?it/s]"
      ]
     },
     "metadata": {},
     "output_type": "display_data"
    },
    {
     "name": "stdout",
     "output_type": "stream",
     "text": [
      "Val Loss: "
     ]
    },
    {
     "name": "stdout",
     "output_type": "stream",
     "text": [
      "Val Loss: "
     ]
    },
    {
     "name": "stdout",
     "output_type": "stream",
     "text": [
      " "
     ]
    },
    {
     "name": "stdout",
     "output_type": "stream",
     "text": [
      " "
     ]
    },
    {
     "name": "stdout",
     "output_type": "stream",
     "text": [
      "tensor(8.5284, device='cuda:1')"
     ]
    },
    {
     "name": "stdout",
     "output_type": "stream",
     "text": [
      "tensor(8.5284, device='cuda:0')"
     ]
    },
    {
     "name": "stdout",
     "output_type": "stream",
     "text": [
      "\n"
     ]
    },
    {
     "name": "stdout",
     "output_type": "stream",
     "text": [
      "\n"
     ]
    },
    {
     "name": "stdout",
     "output_type": "stream",
     "text": [
      "Train Loss: "
     ]
    },
    {
     "name": "stdout",
     "output_type": "stream",
     "text": [
      "Train Loss: "
     ]
    },
    {
     "name": "stdout",
     "output_type": "stream",
     "text": [
      " "
     ]
    },
    {
     "name": "stdout",
     "output_type": "stream",
     "text": [
      " "
     ]
    },
    {
     "name": "stdout",
     "output_type": "stream",
     "text": [
      "tensor(9.9437, device='cuda:0')"
     ]
    },
    {
     "name": "stdout",
     "output_type": "stream",
     "text": [
      "\n"
     ]
    },
    {
     "name": "stdout",
     "output_type": "stream",
     "text": [
      "tensor(9.9437, device='cuda:1')"
     ]
    },
    {
     "name": "stdout",
     "output_type": "stream",
     "text": [
      "\n"
     ]
    },
    {
     "data": {
      "application/vnd.jupyter.widget-view+json": {
       "model_id": "1a9efe021c444b60bf21b6ae3450347b",
       "version_major": 2,
       "version_minor": 0
      },
      "text/plain": [
       "Validation: 0it [00:00, ?it/s]"
      ]
     },
     "metadata": {},
     "output_type": "display_data"
    },
    {
     "name": "stdout",
     "output_type": "stream",
     "text": [
      "Val Loss: "
     ]
    },
    {
     "name": "stdout",
     "output_type": "stream",
     "text": [
      "Val Loss: "
     ]
    },
    {
     "name": "stdout",
     "output_type": "stream",
     "text": [
      " "
     ]
    },
    {
     "name": "stdout",
     "output_type": "stream",
     "text": [
      " "
     ]
    },
    {
     "name": "stdout",
     "output_type": "stream",
     "text": [
      "tensor(8.1104, device='cuda:1')"
     ]
    },
    {
     "name": "stdout",
     "output_type": "stream",
     "text": [
      "tensor(8.1104, device='cuda:0')"
     ]
    },
    {
     "name": "stdout",
     "output_type": "stream",
     "text": [
      "\n"
     ]
    },
    {
     "name": "stdout",
     "output_type": "stream",
     "text": [
      "\n"
     ]
    },
    {
     "name": "stdout",
     "output_type": "stream",
     "text": [
      "Train Loss: "
     ]
    },
    {
     "name": "stdout",
     "output_type": "stream",
     "text": [
      "Train Loss: "
     ]
    },
    {
     "name": "stdout",
     "output_type": "stream",
     "text": [
      " "
     ]
    },
    {
     "name": "stdout",
     "output_type": "stream",
     "text": [
      " "
     ]
    },
    {
     "name": "stdout",
     "output_type": "stream",
     "text": [
      "tensor(9.7843, device='cuda:1')"
     ]
    },
    {
     "name": "stdout",
     "output_type": "stream",
     "text": [
      "tensor(9.7843, device='cuda:0')"
     ]
    },
    {
     "name": "stdout",
     "output_type": "stream",
     "text": [
      "\n"
     ]
    },
    {
     "name": "stdout",
     "output_type": "stream",
     "text": [
      "\n"
     ]
    },
    {
     "data": {
      "application/vnd.jupyter.widget-view+json": {
       "model_id": "a86c6df3ed4940ff9613eaef6d6a8516",
       "version_major": 2,
       "version_minor": 0
      },
      "text/plain": [
       "Validation: 0it [00:00, ?it/s]"
      ]
     },
     "metadata": {},
     "output_type": "display_data"
    },
    {
     "name": "stdout",
     "output_type": "stream",
     "text": [
      "Val Loss: "
     ]
    },
    {
     "name": "stdout",
     "output_type": "stream",
     "text": [
      "Val Loss: "
     ]
    },
    {
     "name": "stdout",
     "output_type": "stream",
     "text": [
      " "
     ]
    },
    {
     "name": "stdout",
     "output_type": "stream",
     "text": [
      "tensor(8.2114, device='cuda:0')"
     ]
    },
    {
     "name": "stdout",
     "output_type": "stream",
     "text": [
      " "
     ]
    },
    {
     "name": "stdout",
     "output_type": "stream",
     "text": [
      "tensor(8.2114, device='cuda:1')"
     ]
    },
    {
     "name": "stdout",
     "output_type": "stream",
     "text": [
      "\n"
     ]
    },
    {
     "name": "stdout",
     "output_type": "stream",
     "text": [
      "\n"
     ]
    },
    {
     "name": "stdout",
     "output_type": "stream",
     "text": [
      "Train Loss: "
     ]
    },
    {
     "name": "stdout",
     "output_type": "stream",
     "text": [
      " "
     ]
    },
    {
     "name": "stdout",
     "output_type": "stream",
     "text": [
      "tensor(9.5688, device='cuda:1')"
     ]
    },
    {
     "name": "stdout",
     "output_type": "stream",
     "text": [
      "Train Loss: "
     ]
    },
    {
     "name": "stdout",
     "output_type": "stream",
     "text": [
      " "
     ]
    },
    {
     "name": "stdout",
     "output_type": "stream",
     "text": [
      "tensor(9.5688, device='cuda:0')"
     ]
    },
    {
     "name": "stdout",
     "output_type": "stream",
     "text": [
      "\n"
     ]
    },
    {
     "name": "stdout",
     "output_type": "stream",
     "text": [
      "\n"
     ]
    },
    {
     "data": {
      "application/vnd.jupyter.widget-view+json": {
       "model_id": "4528d0963cdd40ecab0b7141fa67ba50",
       "version_major": 2,
       "version_minor": 0
      },
      "text/plain": [
       "Validation: 0it [00:00, ?it/s]"
      ]
     },
     "metadata": {},
     "output_type": "display_data"
    },
    {
     "name": "stdout",
     "output_type": "stream",
     "text": [
      "Val Loss: "
     ]
    },
    {
     "name": "stdout",
     "output_type": "stream",
     "text": [
      "Val Loss: "
     ]
    },
    {
     "name": "stdout",
     "output_type": "stream",
     "text": [
      " "
     ]
    },
    {
     "name": "stdout",
     "output_type": "stream",
     "text": [
      "tensor(7.7376, device='cuda:0')"
     ]
    },
    {
     "name": "stdout",
     "output_type": "stream",
     "text": [
      "\n"
     ]
    },
    {
     "name": "stdout",
     "output_type": "stream",
     "text": [
      " "
     ]
    },
    {
     "name": "stdout",
     "output_type": "stream",
     "text": [
      "tensor(7.7376, device='cuda:1')"
     ]
    },
    {
     "name": "stdout",
     "output_type": "stream",
     "text": [
      "\n"
     ]
    },
    {
     "name": "stdout",
     "output_type": "stream",
     "text": [
      "Train Loss: "
     ]
    },
    {
     "name": "stdout",
     "output_type": "stream",
     "text": [
      "Train Loss: "
     ]
    },
    {
     "name": "stdout",
     "output_type": "stream",
     "text": [
      " "
     ]
    },
    {
     "name": "stdout",
     "output_type": "stream",
     "text": [
      "tensor(9.3479, device='cuda:1')"
     ]
    },
    {
     "name": "stdout",
     "output_type": "stream",
     "text": [
      " "
     ]
    },
    {
     "name": "stdout",
     "output_type": "stream",
     "text": [
      "\n"
     ]
    },
    {
     "name": "stdout",
     "output_type": "stream",
     "text": [
      "tensor(9.3479, device='cuda:0')"
     ]
    },
    {
     "name": "stdout",
     "output_type": "stream",
     "text": [
      "\n"
     ]
    },
    {
     "data": {
      "application/vnd.jupyter.widget-view+json": {
       "model_id": "9d807663056f4328814c50197a0365bb",
       "version_major": 2,
       "version_minor": 0
      },
      "text/plain": [
       "Validation: 0it [00:00, ?it/s]"
      ]
     },
     "metadata": {},
     "output_type": "display_data"
    }
   ],
   "source": [
    "trainer.fit(model)"
   ]
  },
  {
   "cell_type": "code",
   "execution_count": null,
   "id": "38c54458",
   "metadata": {
    "execution": {
     "iopub.execute_input": "2023-08-10T21:23:30.433015Z",
     "iopub.status.busy": "2023-08-10T21:23:30.432610Z",
     "iopub.status.idle": "2023-08-10T21:23:30.670513Z",
     "shell.execute_reply": "2023-08-10T21:23:30.669317Z",
     "shell.execute_reply.started": "2023-08-10T21:23:30.432957Z"
    },
    "papermill": {
     "duration": null,
     "end_time": null,
     "exception": null,
     "start_time": null,
     "status": "pending"
    },
    "tags": []
   },
   "outputs": [],
   "source": [
    "torch.save(model.state_dict(), '/kaggle/working/model_v4.pth')"
   ]
  },
  {
   "cell_type": "code",
   "execution_count": 1,
   "id": "a53bfed0",
   "metadata": {
    "papermill": {
     "duration": null,
     "end_time": null,
     "exception": null,
     "start_time": null,
     "status": "pending"
    },
    "tags": []
   },
   "outputs": [
    {
     "name": "stdout",
     "output_type": "stream",
     "text": [
      "Device Selected: mps\n"
     ]
    }
   ],
   "source": [
    "from model import Model\n",
    "from pytorch_lightning import Trainer"
   ]
  },
  {
   "cell_type": "code",
   "execution_count": 2,
   "id": "9a32a623-2de3-4df6-a964-64135fba1e30",
   "metadata": {},
   "outputs": [],
   "source": [
    "model = Model(learning_rate=2e-4)"
   ]
  },
  {
   "cell_type": "code",
   "execution_count": 3,
   "id": "5abedccb-8443-409c-a278-fbb33736dc2e",
   "metadata": {},
   "outputs": [
    {
     "name": "stderr",
     "output_type": "stream",
     "text": [
      "Using 16bit Automatic Mixed Precision (AMP)\n",
      "/Users/swapniel/venvs/erav1/lib/python3.11/site-packages/torch/cuda/amp/grad_scaler.py:120: UserWarning: torch.cuda.amp.GradScaler is enabled, but CUDA is not available.  Disabling.\n",
      "  warnings.warn(\"torch.cuda.amp.GradScaler is enabled, but CUDA is not available.  Disabling.\")\n",
      "GPU available: True (mps), used: True\n",
      "TPU available: False, using: 0 TPU cores\n",
      "IPU available: False, using: 0 IPUs\n",
      "HPU available: False, using: 0 HPUs\n",
      "/Users/swapniel/venvs/erav1/lib/python3.11/site-packages/pytorch_lightning/trainer/connectors/logger_connector/logger_connector.py:67: UserWarning: Starting from v1.9.0, `tensorboardX` has been removed as a dependency of the `pytorch_lightning` package, due to potential conflicts with other packages in the ML ecosystem. For this reason, `logger=True` will use `CSVLogger` as the default logger, unless the `tensorboard` or `tensorboardX` packages are found. Please `pip install lightning[extra]` or one of them to enable TensorBoard support by default\n",
      "  warning_cache.warn(\n"
     ]
    }
   ],
   "source": [
    "trainer = Trainer(precision='16-mixed', max_epochs=40)"
   ]
  },
  {
   "cell_type": "code",
   "execution_count": null,
   "id": "62475d33-dbef-42b1-b92a-3f0142db7e66",
   "metadata": {},
   "outputs": [
    {
     "name": "stderr",
     "output_type": "stream",
     "text": [
      "Restoring states from the checkpoint path at modckpt.pth\n",
      "/Users/swapniel/venvs/erav1/lib/python3.11/site-packages/pytorch_lightning/callbacks/model_checkpoint.py:337: UserWarning: The dirpath has changed from '/kaggle/working/erav1s13/checkpoints' to '/Users/swapniel/git/erav1s13/lightning_logs/version_7/checkpoints', therefore `best_model_score`, `kth_best_model_path`, `kth_value`, `last_model_path` and `best_k_models` won't be reloaded. Only `best_model_path` will be reloaded.\n",
      "  warnings.warn(\n",
      "\n",
      "  | Name          | Type       | Params\n",
      "---------------------------------------------\n",
      "0 | network       | YOLOv3     | 61.6 M\n",
      "1 | criterion     | YoloLoss   | 0     \n",
      "2 | my_train_loss | MeanMetric | 0     \n",
      "3 | my_val_loss   | MeanMetric | 0     \n",
      "---------------------------------------------\n",
      "61.6 M    Trainable params\n",
      "0         Non-trainable params\n",
      "61.6 M    Total params\n",
      "246.504   Total estimated model params size (MB)\n",
      "Restored all states from the checkpoint at modckpt.pth\n"
     ]
    },
    {
     "data": {
      "application/vnd.jupyter.widget-view+json": {
       "model_id": "",
       "version_major": 2,
       "version_minor": 0
      },
      "text/plain": [
       "Sanity Checking: 0it [00:00, ?it/s]"
      ]
     },
     "metadata": {},
     "output_type": "display_data"
    },
    {
     "name": "stdout",
     "output_type": "stream",
     "text": [
      "Device Selected: mps\n",
      "Device Selected: mps\n",
      "Device Selected: mps\n",
      "Device Selected: mps\n"
     ]
    },
    {
     "name": "stderr",
     "output_type": "stream",
     "text": [
      "/Users/swapniel/venvs/erav1/lib/python3.11/site-packages/torch/amp/autocast_mode.py:204: UserWarning: User provided device_type of 'cuda', but CUDA is not available. Disabling\n",
      "  warnings.warn('User provided device_type of \\'cuda\\', but CUDA is not available. Disabling')\n"
     ]
    },
    {
     "name": "stdout",
     "output_type": "stream",
     "text": [
      "LR:  0.00019059422245045916\n",
      "LR:  0.00019059422245045916\n",
      "Device Selected: mps\n",
      "Device Selected: mps\n",
      "Device Selected: mps\n",
      "Device Selected: mps\n",
      "Epoch: 18, Global Steps: 19665, Val Loss: 8.186149597167969\n"
     ]
    },
    {
     "data": {
      "application/vnd.jupyter.widget-view+json": {
       "model_id": "f67729e7cf0d4a8388748d5c94547649",
       "version_major": 2,
       "version_minor": 0
      },
      "text/plain": [
       "Training: 0it [00:00, ?it/s]"
      ]
     },
     "metadata": {},
     "output_type": "display_data"
    },
    {
     "name": "stderr",
     "output_type": "stream",
     "text": [
      "/Users/swapniel/venvs/erav1/lib/python3.11/site-packages/torch/amp/autocast_mode.py:204: UserWarning: User provided device_type of 'cuda', but CUDA is not available. Disabling\n",
      "  warnings.warn('User provided device_type of \\'cuda\\', but CUDA is not available. Disabling')\n"
     ]
    },
    {
     "name": "stdout",
     "output_type": "stream",
     "text": [
      "LR:  0.00019059422245045916\n"
     ]
    }
   ],
   "source": [
    "trainer.fit(model, ckpt_path='modckpt.pth')"
   ]
  },
  {
   "cell_type": "markdown",
   "id": "edc3a8b7-30f8-428e-b9ef-1eb6fbd86c2b",
   "metadata": {},
   "source": []
  }
 ],
 "metadata": {
  "kernelspec": {
   "display_name": "Python 3 (ipykernel)",
   "language": "python",
   "name": "python3"
  },
  "language_info": {
   "codemirror_mode": {
    "name": "ipython",
    "version": 3
   },
   "file_extension": ".py",
   "mimetype": "text/x-python",
   "name": "python",
   "nbconvert_exporter": "python",
   "pygments_lexer": "ipython3",
   "version": "3.11.4"
  },
  "papermill": {
   "default_parameters": {},
   "duration": null,
   "end_time": null,
   "environment_variables": {},
   "exception": null,
   "input_path": "__notebook__.ipynb",
   "output_path": "__notebook__.ipynb",
   "parameters": {},
   "start_time": "2023-08-12T11:45:12.092948",
   "version": "2.4.0"
  }
 },
 "nbformat": 4,
 "nbformat_minor": 5
}
