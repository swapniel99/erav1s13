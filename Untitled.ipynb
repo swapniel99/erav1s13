{
 "cells": [
  {
   "cell_type": "code",
   "execution_count": 1,
   "id": "326596db-b616-4c6a-b5a5-4e918d66f439",
   "metadata": {},
   "outputs": [
    {
     "name": "stdout",
     "output_type": "stream",
     "text": [
      "Device Selected: mps\n"
     ]
    }
   ],
   "source": [
    "from model import Model\n",
    "from torchinfo import summary"
   ]
  },
  {
   "cell_type": "code",
   "execution_count": 2,
   "id": "3bf17962-9e44-4301-8228-b011e91afa23",
   "metadata": {},
   "outputs": [],
   "source": [
    "model = Model()"
   ]
  },
  {
   "cell_type": "code",
   "execution_count": 6,
   "id": "928a99fa-e85e-44cb-a544-bcc8c69bbc13",
   "metadata": {},
   "outputs": [
    {
     "data": {
      "text/plain": [
       "==============================================================================================================\n",
       "Layer (type:depth-idx)                                       Output Shape              Param #\n",
       "==============================================================================================================\n",
       "Model                                                        [32, 3, 13, 13, 25]       --\n",
       "├─YOLOv3: 1-1                                                [32, 3, 13, 13, 25]       --\n",
       "│    └─ModuleList: 2-1                                       --                        --\n",
       "│    │    └─CNNBlock: 3-1                                    [32, 32, 416, 416]        928\n",
       "│    │    └─CNNBlock: 3-2                                    [32, 64, 208, 208]        18,560\n",
       "│    │    └─ResidualBlock: 3-3                               [32, 64, 208, 208]        7,040\n",
       "│    │    └─CNNBlock: 3-4                                    [32, 128, 104, 104]       73,984\n",
       "│    │    └─ResidualBlock: 3-5                               [32, 128, 104, 104]       52,736\n",
       "│    │    └─CNNBlock: 3-6                                    [32, 256, 52, 52]         295,424\n",
       "│    │    └─ResidualBlock: 3-7                               [32, 256, 52, 52]         815,104\n",
       "│    │    └─CNNBlock: 3-8                                    [32, 512, 26, 26]         1,180,672\n",
       "│    │    └─ResidualBlock: 3-9                               [32, 512, 26, 26]         3,203,072\n",
       "│    │    └─CNNBlock: 3-10                                   [32, 1024, 13, 13]        4,720,640\n",
       "│    │    └─ResidualBlock: 3-11                              [32, 1024, 13, 13]        6,348,800\n",
       "│    │    └─CNNBlock: 3-12                                   [32, 512, 13, 13]         525,312\n",
       "│    │    └─CNNBlock: 3-13                                   [32, 1024, 13, 13]        4,720,640\n",
       "│    │    └─ResidualBlock: 3-14                              [32, 1024, 13, 13]        5,245,952\n",
       "│    │    └─CNNBlock: 3-15                                   [32, 512, 13, 13]         525,312\n",
       "│    │    └─ScalePrediction: 3-16                            [32, 3, 13, 13, 25]       4,797,515\n",
       "│    │    └─CNNBlock: 3-17                                   [32, 256, 13, 13]         131,584\n",
       "│    │    └─Upsample: 3-18                                   [32, 256, 26, 26]         --\n",
       "│    │    └─CNNBlock: 3-19                                   [32, 256, 26, 26]         197,120\n",
       "│    │    └─CNNBlock: 3-20                                   [32, 512, 26, 26]         1,180,672\n",
       "│    │    └─ResidualBlock: 3-21                              [32, 512, 26, 26]         1,312,256\n",
       "│    │    └─CNNBlock: 3-22                                   [32, 256, 26, 26]         131,584\n",
       "│    │    └─ScalePrediction: 3-23                            [32, 3, 26, 26, 25]       1,219,147\n",
       "│    │    └─CNNBlock: 3-24                                   [32, 128, 26, 26]         33,024\n",
       "│    │    └─Upsample: 3-25                                   [32, 128, 52, 52]         --\n",
       "│    │    └─CNNBlock: 3-26                                   [32, 128, 52, 52]         49,408\n",
       "│    │    └─CNNBlock: 3-27                                   [32, 256, 52, 52]         295,424\n",
       "│    │    └─ResidualBlock: 3-28                              [32, 256, 52, 52]         328,448\n",
       "│    │    └─CNNBlock: 3-29                                   [32, 128, 52, 52]         33,024\n",
       "│    │    └─ScalePrediction: 3-30                            [32, 3, 52, 52, 25]       314,699\n",
       "==============================================================================================================\n",
       "Total params: 37,758,081\n",
       "Trainable params: 37,758,081\n",
       "Non-trainable params: 0\n",
       "Total mult-adds (Units.GIGABYTES): 594.55\n",
       "==============================================================================================================\n",
       "Input size (MB): 66.45\n",
       "Forward/backward pass size (MB): 27114.72\n",
       "Params size (MB): 151.03\n",
       "Estimated Total Size (MB): 27332.20\n",
       "=============================================================================================================="
      ]
     },
     "execution_count": 6,
     "metadata": {},
     "output_type": "execute_result"
    }
   ],
   "source": [
    "summary(model, input_size=(8, 3, 416, 416))"
   ]
  },
  {
   "cell_type": "code",
   "execution_count": null,
   "id": "b5022732-ac9d-48a2-bf64-2b2089093e0a",
   "metadata": {},
   "outputs": [],
   "source": []
  }
 ],
 "metadata": {
  "kernelspec": {
   "display_name": "Python 3 (ipykernel)",
   "language": "python",
   "name": "python3"
  },
  "language_info": {
   "codemirror_mode": {
    "name": "ipython",
    "version": 3
   },
   "file_extension": ".py",
   "mimetype": "text/x-python",
   "name": "python",
   "nbconvert_exporter": "python",
   "pygments_lexer": "ipython3",
   "version": "3.11.3"
  }
 },
 "nbformat": 4,
 "nbformat_minor": 5
}
